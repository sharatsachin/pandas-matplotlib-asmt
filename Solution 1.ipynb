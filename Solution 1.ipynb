{
 "cells": [
  {
   "cell_type": "markdown",
   "metadata": {},
   "source": [
    "# Solution to Problem 1"
   ]
  },
  {
   "cell_type": "code",
   "execution_count": 1,
   "metadata": {},
   "outputs": [],
   "source": [
    "import pandas as pd\n",
    "import numpy as np"
   ]
  },
  {
   "cell_type": "code",
   "execution_count": 2,
   "metadata": {},
   "outputs": [],
   "source": [
    "matchdf = pd.read_csv('matches.csv')\n",
    "delivdf = pd.read_csv('deliveries.csv')"
   ]
  },
  {
   "cell_type": "code",
   "execution_count": 3,
   "metadata": {},
   "outputs": [
    {
     "data": {
      "text/plain": [
       "Index(['id', 'season', 'city', 'date', 'team1', 'team2', 'toss_winner',\n",
       "       'toss_decision', 'result', 'dl_applied', 'winner', 'win_by_runs',\n",
       "       'win_by_wickets', 'player_of_match', 'venue', 'umpire1', 'umpire2',\n",
       "       'umpire3'],\n",
       "      dtype='object')"
      ]
     },
     "execution_count": 3,
     "metadata": {},
     "output_type": "execute_result"
    }
   ],
   "source": [
    "matchdf.columns"
   ]
  },
  {
   "cell_type": "code",
   "execution_count": 4,
   "metadata": {},
   "outputs": [
    {
     "data": {
      "text/plain": [
       "Index(['match_id', 'inning', 'batting_team', 'bowling_team', 'over', 'ball',\n",
       "       'batsman', 'non_striker', 'bowler', 'is_super_over', 'wide_runs',\n",
       "       'bye_runs', 'legbye_runs', 'noball_runs', 'penalty_runs',\n",
       "       'batsman_runs', 'extra_runs', 'total_runs', 'player_dismissed',\n",
       "       'dismissal_kind', 'fielder'],\n",
       "      dtype='object')"
      ]
     },
     "execution_count": 4,
     "metadata": {},
     "output_type": "execute_result"
    }
   ],
   "source": [
    "delivdf.columns"
   ]
  },
  {
   "cell_type": "markdown",
   "metadata": {},
   "source": [
    "### 1) Which team has won/lost maximum number of matches while chasing?"
   ]
  },
  {
   "cell_type": "code",
   "execution_count": 5,
   "metadata": {},
   "outputs": [
    {
     "data": {
      "text/plain": [
       "'Kolkata Knight Riders'"
      ]
     },
     "execution_count": 5,
     "metadata": {},
     "output_type": "execute_result"
    }
   ],
   "source": [
    "t11 = matchdf[matchdf['winner']==matchdf['team2']]['team2']\n",
    "t11.groupby(t11).count().idxmax()"
   ]
  },
  {
   "cell_type": "code",
   "execution_count": 6,
   "metadata": {},
   "outputs": [
    {
     "data": {
      "text/plain": [
       "'Delhi Daredevils'"
      ]
     },
     "execution_count": 6,
     "metadata": {},
     "output_type": "execute_result"
    }
   ],
   "source": [
    "t12 = matchdf[matchdf['winner']!=matchdf['team2']]['team2']\n",
    "t12.groupby(t12).count().idxmax()"
   ]
  },
  {
   "cell_type": "markdown",
   "metadata": {},
   "source": [
    "### 2) Which toss decision is best for each ground?"
   ]
  },
  {
   "cell_type": "markdown",
   "metadata": {},
   "source": [
    "The value will be 'bat', 'field' or 'equal' depending on the number of matches that have been won by the batting or fielding team at that venue"
   ]
  },
  {
   "cell_type": "code",
   "execution_count": 7,
   "metadata": {},
   "outputs": [
    {
     "data": {
      "text/plain": [
       "venue\n",
       "ACA-VDCA Stadium                                        field\n",
       "Barabati Stadium                                          bat\n",
       "Brabourne Stadium                                         bat\n",
       "Buffalo Park                                              bat\n",
       "De Beers Diamond Oval                                   field\n",
       "Dr DY Patil Sports Academy                              field\n",
       "Dr. Y.S. Rajasekhara Reddy ACA-VDCA Cricket Stadium       bat\n",
       "Dubai International Cricket Stadium                     field\n",
       "Eden Gardens                                            field\n",
       "Feroz Shah Kotla                                        field\n",
       "Feroz Shah Kotla Ground                                 field\n",
       "Green Park                                              field\n",
       "Himachal Pradesh Cricket Association Stadium              bat\n",
       "Holkar Cricket Stadium                                  field\n",
       "IS Bindra Stadium                                       field\n",
       "JSCA International Stadium Complex                      field\n",
       "Kingsmead                                                 bat\n",
       "M Chinnaswamy Stadium                                   field\n",
       "M. A. Chidambaram Stadium                               equal\n",
       "M. Chinnaswamy Stadium                                  equal\n",
       "MA Chidambaram Stadium, Chepauk                           bat\n",
       "Maharashtra Cricket Association Stadium                 field\n",
       "Nehru Stadium                                             bat\n",
       "New Wanderers Stadium                                   field\n",
       "Newlands                                                  bat\n",
       "OUTsurance Oval                                         equal\n",
       "Punjab Cricket Association IS Bindra Stadium, Mohali    equal\n",
       "Punjab Cricket Association Stadium, Mohali              field\n",
       "Rajiv Gandhi International Stadium, Uppal               field\n",
       "Rajiv Gandhi Intl. Cricket Stadium                        bat\n",
       "Sardar Patel Stadium, Motera                            equal\n",
       "Saurashtra Cricket Association Stadium                  field\n",
       "Sawai Mansingh Stadium                                  field\n",
       "Shaheed Veer Narayan Singh International Stadium        field\n",
       "Sharjah Cricket Stadium                                 field\n",
       "Sheikh Zayed Stadium                                      bat\n",
       "St George's Park                                        field\n",
       "Subrata Roy Sahara Stadium                                bat\n",
       "SuperSport Park                                         field\n",
       "Vidarbha Cricket Association Stadium, Jamtha              bat\n",
       "Wankhede Stadium                                        field\n",
       "Name: decision, dtype: object"
      ]
     },
     "execution_count": 7,
     "metadata": {},
     "output_type": "execute_result"
    }
   ],
   "source": [
    "t2 = matchdf.loc[:, ['winner','team1','team2','venue']]\n",
    "# Add 'bat' and 'field' columns to the dataframe\n",
    "t2['bat'] = (t2['team1'] == t2['winner'])\n",
    "t2['field'] = (t2['team2'] == t2['winner'])\n",
    "t2 = t2[['venue','bat','field']]\n",
    "tt1 = pd.DataFrame(t2.groupby('venue')['bat'].apply(lambda x: x[x == True].count()))\n",
    "tt2 = pd.DataFrame(t2.groupby('venue')['field'].apply(lambda x: x[x == True].count()))\n",
    "t2sol = pd.merge(tt1, tt2, on='venue')\n",
    "t2sol['decision'] = t2sol.apply (lambda row: ('bat' if row['bat']>row['field'] else 'equal') if row['bat']>=row['field'] else 'field', axis=1)\n",
    "t2sol['decision']"
   ]
  },
  {
   "cell_type": "markdown",
   "metadata": {},
   "source": [
    "### 3) Which player has won maximum number of MoM awards while chasing?"
   ]
  },
  {
   "cell_type": "code",
   "execution_count": 8,
   "metadata": {},
   "outputs": [
    {
     "data": {
      "text/plain": [
       "'YK Pathan'"
      ]
     },
     "execution_count": 8,
     "metadata": {},
     "output_type": "execute_result"
    }
   ],
   "source": [
    "t3 = matchdf[matchdf['winner']==matchdf['team2']]['player_of_match']\n",
    "# Since the player of the match is almost always from the winning team\n",
    "t3.groupby(t3).count().idxmax()"
   ]
  },
  {
   "cell_type": "markdown",
   "metadata": {},
   "source": [
    "### 4) Which batsman has played maximum number of dot balls?"
   ]
  },
  {
   "cell_type": "code",
   "execution_count": 9,
   "metadata": {},
   "outputs": [
    {
     "data": {
      "text/plain": [
       "'V Kohli'"
      ]
     },
     "execution_count": 9,
     "metadata": {},
     "output_type": "execute_result"
    }
   ],
   "source": [
    "t4 = delivdf.loc[:,['batsman','total_runs']]\n",
    "t4[t4['total_runs']==0].groupby('batsman').count().idxmax()[0]"
   ]
  },
  {
   "cell_type": "markdown",
   "metadata": {},
   "source": [
    "### 5) Which batsmen came to crease but never got a chance to face a ball?"
   ]
  },
  {
   "cell_type": "code",
   "execution_count": 10,
   "metadata": {},
   "outputs": [
    {
     "name": "stdout",
     "output_type": "stream",
     "text": [
      "2 -> ['MJ McClenaghan']\n",
      "3 -> ['DR Smith']\n",
      "4 -> ['R Bhatia']\n",
      "10 -> ['A Nehra']\n",
      "11 -> ['Sandeep Sharma']\n",
      "21 -> ['CH Morris']\n",
      "28 -> ['MJ McClenaghan', 'MG Johnson']\n",
      "29 -> ['MK Pandey']\n",
      "31 -> ['PJ Cummins']\n",
      "37 -> ['S Aravind']\n",
      "43 -> ['JD Unadkat', 'A Nehra']\n",
      "45 -> ['S Aravind']\n",
      "51 -> ['S Nadeem']\n",
      "54 -> ['Sandeep Sharma']\n",
      "64 -> ['PP Ojha']\n",
      "71 -> ['AB Dinda']\n",
      "74 -> ['JDP Oram']\n",
      "75 -> ['I Sharma']\n",
      "79 -> ['Joginder Sharma']\n",
      "80 -> ['DP Vijaykumar', 'SB Bangar']\n",
      "82 -> ['A Nehra']\n",
      "90 -> ['A Kumble']\n",
      "91 -> ['S Sreesanth']\n",
      "95 -> ['GD McGrath']\n",
      "109 -> ['A Nel']\n",
      "111 -> ['Z Khan']\n",
      "115 -> ['MM Patel']\n",
      "118 -> ['PR Shah']\n",
      "119 -> ['DW Steyn']\n",
      "120 -> ['PP Chawla', 'T Kohli']\n",
      "125 -> ['DL Vettori', 'L Balaji']\n",
      "129 -> ['R Vinay Kumar']\n",
      "130 -> ['K Goel']\n",
      "131 -> ['MS Gony']\n",
      "135 -> ['Z Khan']\n",
      "138 -> ['AB Agarkar']\n",
      "139 -> ['RR Powar']\n",
      "140 -> ['Y Venugopal Rao']\n",
      "141 -> ['S Tyagi', 'A Nehra']\n",
      "148 -> ['A Kumble']\n",
      "150 -> ['SL Malinga']\n",
      "155 -> ['RP Singh']\n",
      "157 -> ['PP Chawla']\n",
      "158 -> ['PJ Sangwan']\n",
      "159 -> ['S Tyagi']\n",
      "160 -> ['SK Warne']\n",
      "163 -> ['AB Agarkar']\n",
      "164 -> ['Jaskaran Singh']\n",
      "170 -> ['DS Kulkarni', 'SL Malinga']\n",
      "176 -> ['Z Khan', 'SA Asnodkar']\n",
      "183 -> ['R Sathish']\n",
      "187 -> ['AD Mathews']\n",
      "188 -> ['SL Malinga']\n",
      "193 -> ['AA Jhunjhunwala']\n",
      "195 -> ['PP Ojha']\n",
      "196 -> ['WP Saha']\n",
      "198 -> ['SK Warne']\n",
      "199 -> ['PP Ojha']\n",
      "202 -> ['C Ganapathy']\n",
      "204 -> ['Y Venugopal Rao']\n",
      "206 -> ['S Anirudha']\n",
      "210 -> ['Harmeet Singh', 'PP Ojha']\n",
      "214 -> ['P Kumar']\n",
      "216 -> ['SB Jakati']\n",
      "227 -> ['Kamran Khan']\n",
      "232 -> ['SB Jakati']\n",
      "233 -> ['Harmeet Singh']\n",
      "247 -> ['KA Pollard']\n",
      "250 -> ['S Nadeem']\n",
      "258 -> ['MK Tiwary']\n",
      "266 -> ['AB Agarkar']\n",
      "268 -> ['A Mithun']\n",
      "271 -> ['M Kartik']\n",
      "273 -> ['TL Suman']\n",
      "275 -> ['MV Boucher']\n",
      "276 -> ['JA Morkel']\n",
      "283 -> ['RP Singh']\n",
      "285 -> ['SK Trivedi']\n",
      "286 -> ['I Sharma']\n",
      "287 -> ['SL Malinga']\n",
      "289 -> ['WP Saha']\n",
      "291 -> ['A Mithun']\n",
      "292 -> ['DS Kulkarni', 'SL Malinga']\n",
      "302 -> ['SB Jakati']\n",
      "305 -> ['RG Sharma']\n",
      "307 -> ['S Badrinath']\n",
      "310 -> ['R Sharma']\n",
      "313 -> ['TP Sudhindra']\n",
      "318 -> ['M Vijay']\n",
      "320 -> ['Z Khan']\n",
      "329 -> ['B Kumar']\n",
      "331 -> ['PA Patel']\n",
      "343 -> ['P Awana']\n",
      "345 -> ['AB Agarkar']\n",
      "347 -> ['LR Shukla']\n",
      "353 -> ['M Kartik']\n",
      "357 -> ['M Morkel']\n",
      "366 -> ['PA Reddy']\n",
      "370 -> ['MM Patel']\n",
      "376 -> ['DW Steyn']\n",
      "377 -> ['GB Hogg']\n",
      "382 -> ['UT Yadav']\n",
      "385 -> ['S Sreesanth']\n",
      "386 -> ['DP Nannes']\n",
      "388 -> ['A Mishra']\n",
      "400 -> ['P Awana', 'L Balaji']\n",
      "405 -> ['MS Gony']\n",
      "406 -> ['JH Kallis']\n",
      "412 -> ['PP Chawla']\n",
      "416 -> ['I Sharma']\n",
      "417 -> ['AT Rayudu']\n",
      "424 -> ['G Gambhir']\n",
      "431 -> ['M Rawat']\n",
      "434 -> ['Harbhajan Singh', 'AT Rayudu']\n",
      "435 -> ['I Sharma']\n",
      "445 -> ['LJ Wright']\n",
      "449 -> ['A Mishra']\n",
      "451 -> ['S Kaul']\n",
      "452 -> ['S Badrinath']\n",
      "454 -> ['MM Patel']\n",
      "461 -> ['DW Steyn']\n",
      "463 -> ['NM Coulter-Nile']\n",
      "465 -> ['BW Hilfenhaus']\n",
      "466 -> ['AR Patel']\n",
      "468 -> ['MA Starc']\n",
      "471 -> ['YS Chahal', 'STR Binny']\n",
      "473 -> ['Z Khan']\n",
      "478 -> ['R Vinay Kumar']\n",
      "480 -> ['WD Parnell']\n",
      "484 -> ['AP Tare']\n",
      "490 -> ['R Ashwin']\n",
      "494 -> ['KK Cooper']\n",
      "497 -> ['RN ten Doeschate']\n",
      "511 -> ['Parvez Rasool', 'R Vinay Kumar']\n",
      "513 -> ['KK Cooper']\n",
      "514 -> ['M Morkel', 'SP Narine']\n",
      "519 -> ['DJ Muthuswami']\n",
      "520 -> ['TG Southee']\n",
      "521 -> ['DJ Bravo']\n",
      "522 -> ['PP Chawla']\n",
      "524 -> ['R Vinay Kumar']\n",
      "528 -> ['MK Tiwary', 'R Dhawan']\n",
      "530 -> ['J Suchith']\n",
      "539 -> ['JJ Bumrah']\n",
      "549 -> ['Harbhajan Singh']\n",
      "554 -> ['Mandeep Singh', 'MM Sharma', 'YS Chahal']\n",
      "560 -> ['GJ Bailey', 'UT Yadav']\n",
      "564 -> ['BE Hendricks']\n",
      "566 -> ['HV Patel']\n",
      "568 -> ['SN Khan']\n",
      "575 -> ['RA Jadeja']\n",
      "579 -> ['MG Johnson']\n",
      "585 -> ['MJ McClenaghan']\n",
      "590 -> ['HV Patel']\n",
      "592 -> ['I Sharma']\n",
      "596 -> ['SP Narine']\n",
      "597 -> ['KH Pandya', 'MM Sharma']\n",
      "598 -> ['A Nehra']\n",
      "601 -> ['P Kumar']\n",
      "602 -> ['GB Hogg']\n",
      "604 -> ['S Kaushik']\n",
      "606 -> ['VR Aaron']\n",
      "614 -> ['DJ Bravo']\n",
      "615 -> ['STR Binny']\n",
      "616 -> ['R Bhatia']\n",
      "622 -> ['GJ Maxwell']\n",
      "634 -> ['BB Sran', 'M Morkel']\n",
      "7896 -> ['Washington Sundar']\n",
      "7899 -> ['SS Iyer', 'C Munro']\n",
      "7905 -> ['BB Sran']\n",
      "7906 -> ['S Mavi']\n",
      "7908 -> ['JD Unadkat']\n",
      "7912 -> ['CH Morris']\n",
      "7914 -> ['JD Unadkat']\n",
      "7917 -> ['Mohammed Siraj']\n",
      "7919 -> ['V Shankar']\n",
      "7920 -> ['RA Jadeja']\n",
      "7921 -> ['Basil Thampi']\n",
      "7923 -> ['RA Jadeja']\n",
      "7924 -> ['MJ McClenaghan']\n",
      "7925 -> ['J Archer']\n",
      "7926 -> ['KV Sharma']\n",
      "7927 -> ['R Ashwin']\n",
      "7930 -> ['PP Chawla']\n",
      "7934 -> ['JP Duminy']\n",
      "7935 -> ['V Shankar']\n",
      "7936 -> ['J Archer']\n",
      "7940 -> ['JP Duminy', 'BA Stokes']\n",
      "7947 -> ['S Gill', 'S Kaul']\n",
      "7948 -> ['Mustafizur Rahman']\n",
      "7951 -> ['PP Chawla']\n",
      "7952 -> ['P Krishna']\n",
      "11139 -> ['JJ Bumrah']\n",
      "11145 -> ['M Markande']\n",
      "11146 -> ['HV Patel']\n",
      "11148 -> ['JD Unadkat']\n",
      "11149 -> ['M Ur Rahman']\n",
      "11152 -> ['I Sharma']\n",
      "11310 -> ['A Joseph']\n",
      "11318 -> ['KH Pandya']\n",
      "11320 -> ['Kuldeep Yadav']\n",
      "11322 -> ['Mohammed Siraj', 'KA Pollard']\n",
      "11323 -> ['JD Unadkat']\n",
      "11324 -> ['YK Pathan']\n",
      "11325 -> ['K Paul', 'I Sharma', 'KA Pollard']\n",
      "11326 -> ['KD Karthik']\n",
      "11330 -> ['DW Steyn', 'SN Thakur']\n",
      "11331 -> ['SV Samson']\n",
      "11332 -> ['DJ Bravo']\n",
      "11335 -> ['Imran Tahir']\n",
      "11336 -> ['S Kaul']\n",
      "11337 -> ['UT Yadav']\n",
      "11340 -> ['UT Yadav']\n",
      "11342 -> ['Rashid Khan']\n",
      "11347 -> ['SP Narine']\n",
      "11413 -> ['TA Boult', 'B Kumar']\n",
      "11415 -> ['JJ Bumrah']\n"
     ]
    }
   ],
   "source": [
    "t5 = delivdf.loc[:,['match_id','non_striker','batsman']].drop_duplicates()\n",
    "for id, group in t5.groupby('match_id'):\n",
    "    st1 = set(group['non_striker'])\n",
    "    st2 = set(group['batsman'])\n",
    "    st = st1-st2\n",
    "    if len(st):\n",
    "        print(id, '->', list(st1-st2))"
   ]
  },
  {
   "cell_type": "markdown",
   "metadata": {},
   "source": [
    "### 6) Which bowler has hit for maximum number of 1s/2s/3s/4s/6s?"
   ]
  },
  {
   "cell_type": "code",
   "execution_count": 11,
   "metadata": {},
   "outputs": [
    {
     "name": "stdout",
     "output_type": "stream",
     "text": [
      "1 -> Harbhajan Singh\n",
      "2 -> DJ Bravo\n",
      "3 -> P Kumar\n",
      "4 -> UT Yadav\n",
      "6 -> PP Chawla\n"
     ]
    }
   ],
   "source": [
    "t6 = delivdf.loc[:,['bowler','total_runs']]\n",
    "for i in [1,2,3,4,6]:\n",
    "    print (i,'->' ,t6[t6['total_runs']==i].groupby('bowler').count().idxmax()[0])"
   ]
  },
  {
   "cell_type": "markdown",
   "metadata": {},
   "source": [
    "### 7) Which batsman got stumped out maximum number of times?"
   ]
  },
  {
   "cell_type": "code",
   "execution_count": 12,
   "metadata": {},
   "outputs": [
    {
     "data": {
      "text/plain": [
       "'SK Raina'"
      ]
     },
     "execution_count": 12,
     "metadata": {},
     "output_type": "execute_result"
    }
   ],
   "source": [
    "t7 = delivdf.loc[:,['player_dismissed','dismissal_kind']]\n",
    "t7 = t7[t7['dismissal_kind']=='stumped']['player_dismissed']\n",
    "t7.groupby(t7).count().idxmax()"
   ]
  },
  {
   "cell_type": "markdown",
   "metadata": {},
   "source": [
    "### 8) Which non-striker has been part of maximum number of runouts?"
   ]
  },
  {
   "cell_type": "code",
   "execution_count": 13,
   "metadata": {},
   "outputs": [
    {
     "data": {
      "text/plain": [
       "'AB de Villiers'"
      ]
     },
     "execution_count": 13,
     "metadata": {},
     "output_type": "execute_result"
    }
   ],
   "source": [
    "t8 = delivdf.loc[:,['non_striker','player_dismissed','dismissal_kind']]\n",
    "t8 = t8[(t8['dismissal_kind']=='run out') & (t8['player_dismissed']==t8['non_striker'])]['player_dismissed']\n",
    "t8.groupby(t8).count().idxmax()"
   ]
  },
  {
   "cell_type": "markdown",
   "metadata": {},
   "source": [
    "### 9) Which bowler has bowled maximum number of dot balls?"
   ]
  },
  {
   "cell_type": "code",
   "execution_count": 14,
   "metadata": {},
   "outputs": [
    {
     "data": {
      "text/plain": [
       "'Harbhajan Singh'"
      ]
     },
     "execution_count": 14,
     "metadata": {},
     "output_type": "execute_result"
    }
   ],
   "source": [
    "t9 = delivdf.loc[:,['bowler','total_runs']]\n",
    "t9[t9['total_runs']==0].groupby('bowler').count().idxmax()[0]"
   ]
  },
  {
   "cell_type": "markdown",
   "metadata": {},
   "source": [
    "### 10) Which team holds the record for the maximum win by runs and against whom?"
   ]
  },
  {
   "cell_type": "code",
   "execution_count": 15,
   "metadata": {},
   "outputs": [
    {
     "name": "stdout",
     "output_type": "stream",
     "text": [
      "Mumbai Indians won against Delhi Daredevils by 146 runs\n"
     ]
    }
   ],
   "source": [
    "t10 = matchdf[['team1','team2','winner','win_by_runs']]\n",
    "r10 = t10.iloc[t10['win_by_runs'].idxmax()]\n",
    "print('{} won against {} by {} runs'.format(r10['team1'],r10['team2'],r10['win_by_runs']))"
   ]
  },
  {
   "cell_type": "markdown",
   "metadata": {},
   "source": [
    "### 11) Which team holds the record for the maximum win by wickets and against whom?"
   ]
  },
  {
   "cell_type": "code",
   "execution_count": 16,
   "metadata": {},
   "outputs": [
    {
     "data": {
      "text/html": [
       "<div>\n",
       "<style scoped>\n",
       "    .dataframe tbody tr th:only-of-type {\n",
       "        vertical-align: middle;\n",
       "    }\n",
       "\n",
       "    .dataframe tbody tr th {\n",
       "        vertical-align: top;\n",
       "    }\n",
       "\n",
       "    .dataframe thead th {\n",
       "        text-align: right;\n",
       "    }\n",
       "</style>\n",
       "<table border=\"1\" class=\"dataframe\">\n",
       "  <thead>\n",
       "    <tr style=\"text-align: right;\">\n",
       "      <th></th>\n",
       "      <th>winner</th>\n",
       "      <th>loser</th>\n",
       "    </tr>\n",
       "  </thead>\n",
       "  <tbody>\n",
       "    <tr>\n",
       "      <th>2</th>\n",
       "      <td>Kolkata Knight Riders</td>\n",
       "      <td>Gujarat Lions</td>\n",
       "    </tr>\n",
       "    <tr>\n",
       "      <th>34</th>\n",
       "      <td>Kings XI Punjab</td>\n",
       "      <td>Delhi Daredevils</td>\n",
       "    </tr>\n",
       "    <tr>\n",
       "      <th>71</th>\n",
       "      <td>Deccan Chargers</td>\n",
       "      <td>Mumbai Indians</td>\n",
       "    </tr>\n",
       "    <tr>\n",
       "      <th>119</th>\n",
       "      <td>Delhi Daredevils</td>\n",
       "      <td>Kings XI Punjab</td>\n",
       "    </tr>\n",
       "    <tr>\n",
       "      <th>183</th>\n",
       "      <td>Royal Challengers Bangalore</td>\n",
       "      <td>Rajasthan Royals</td>\n",
       "    </tr>\n",
       "    <tr>\n",
       "      <th>298</th>\n",
       "      <td>Rajasthan Royals</td>\n",
       "      <td>Mumbai Indians</td>\n",
       "    </tr>\n",
       "    <tr>\n",
       "      <th>376</th>\n",
       "      <td>Mumbai Indians</td>\n",
       "      <td>Rajasthan Royals</td>\n",
       "    </tr>\n",
       "    <tr>\n",
       "      <th>390</th>\n",
       "      <td>Chennai Super Kings</td>\n",
       "      <td>Kings XI Punjab</td>\n",
       "    </tr>\n",
       "    <tr>\n",
       "      <th>542</th>\n",
       "      <td>Royal Challengers Bangalore</td>\n",
       "      <td>Delhi Daredevils</td>\n",
       "    </tr>\n",
       "    <tr>\n",
       "      <th>590</th>\n",
       "      <td>Sunrisers Hyderabad</td>\n",
       "      <td>Gujarat Lions</td>\n",
       "    </tr>\n",
       "    <tr>\n",
       "      <th>683</th>\n",
       "      <td>Royal Challengers Bangalore</td>\n",
       "      <td>Kings XI Punjab</td>\n",
       "    </tr>\n",
       "  </tbody>\n",
       "</table>\n",
       "</div>"
      ],
      "text/plain": [
       "                          winner             loser\n",
       "2          Kolkata Knight Riders     Gujarat Lions\n",
       "34               Kings XI Punjab  Delhi Daredevils\n",
       "71               Deccan Chargers    Mumbai Indians\n",
       "119             Delhi Daredevils   Kings XI Punjab\n",
       "183  Royal Challengers Bangalore  Rajasthan Royals\n",
       "298             Rajasthan Royals    Mumbai Indians\n",
       "376               Mumbai Indians  Rajasthan Royals\n",
       "390          Chennai Super Kings   Kings XI Punjab\n",
       "542  Royal Challengers Bangalore  Delhi Daredevils\n",
       "590          Sunrisers Hyderabad     Gujarat Lions\n",
       "683  Royal Challengers Bangalore   Kings XI Punjab"
      ]
     },
     "execution_count": 16,
     "metadata": {},
     "output_type": "execute_result"
    }
   ],
   "source": [
    "t10 = matchdf.loc[:,['team1','team2','winner','win_by_wickets']]\n",
    "t10['loser'] = t10.apply (lambda row: row['team1'] if row['team2']==row['winner'] else row['team1'], axis=1)\n",
    "t10 = t10[t10['win_by_wickets']==10].loc[:,['winner','loser']]\n",
    "t10"
   ]
  },
  {
   "cell_type": "markdown",
   "metadata": {},
   "source": [
    "### 12) Which fielder took most catches in IPL?"
   ]
  },
  {
   "cell_type": "code",
   "execution_count": 17,
   "metadata": {},
   "outputs": [
    {
     "data": {
      "text/plain": [
       "'SK Raina'"
      ]
     },
     "execution_count": 17,
     "metadata": {},
     "output_type": "execute_result"
    }
   ],
   "source": [
    "t11 = delivdf.loc[:,['fielder','dismissal_kind']]\n",
    "t11 = t11[t11['dismissal_kind']=='caught']['fielder']\n",
    "t7.groupby(t7).count().idxmax()"
   ]
  },
  {
   "cell_type": "markdown",
   "metadata": {},
   "source": [
    "### 13) Which umpire officiated the most matches?"
   ]
  },
  {
   "cell_type": "code",
   "execution_count": 18,
   "metadata": {},
   "outputs": [
    {
     "data": {
      "text/plain": [
       "'S Ravi'"
      ]
     },
     "execution_count": 18,
     "metadata": {},
     "output_type": "execute_result"
    }
   ],
   "source": [
    "t12 = matchdf.loc[:,['umpire1','umpire2','umpire3']]\n",
    "pd.concat([t12['umpire1'],t12['umpire2'],t12['umpire3']],ignore_index=True).value_counts().idxmax()"
   ]
  },
  {
   "cell_type": "code",
   "execution_count": null,
   "metadata": {},
   "outputs": [],
   "source": []
  }
 ],
 "metadata": {
  "kernelspec": {
   "display_name": "Python 3",
   "language": "python",
   "name": "python3"
  },
  "language_info": {
   "codemirror_mode": {
    "name": "ipython",
    "version": 3
   },
   "file_extension": ".py",
   "mimetype": "text/x-python",
   "name": "python",
   "nbconvert_exporter": "python",
   "pygments_lexer": "ipython3",
   "version": "3.7.3"
  }
 },
 "nbformat": 4,
 "nbformat_minor": 2
}
